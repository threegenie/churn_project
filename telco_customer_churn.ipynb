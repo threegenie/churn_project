{
  "nbformat": 4,
  "nbformat_minor": 0,
  "metadata": {
    "colab": {
      "name": "telco customer churn.ipynb",
      "provenance": [],
      "collapsed_sections": [],
      "authorship_tag": "ABX9TyMQonHr/d0bdKYYWmvwIrM/",
      "include_colab_link": true
    },
    "kernelspec": {
      "name": "python3",
      "display_name": "Python 3"
    }
  },
  "cells": [
    {
      "cell_type": "markdown",
      "metadata": {
        "id": "view-in-github",
        "colab_type": "text"
      },
      "source": [
        "<a href=\"https://colab.research.google.com/github/threegenie/churn_project/blob/main/telco_customer_churn.ipynb\" target=\"_parent\"><img src=\"https://colab.research.google.com/assets/colab-badge.svg\" alt=\"Open In Colab\"/></a>"
      ]
    },
    {
      "cell_type": "markdown",
      "metadata": {
        "id": "Fn4sdtpAh4Qx"
      },
      "source": [
        "### **이 데이터를 선택한 이유 ?**\r\n",
        "캐글에서 다양한 데이터를 찾던 중, 'Telco Customer Churn'이라는 데이터셋을 보게 되었습니다. \r\n",
        "\r\n",
        "최근에 핸드폰을 사용하면서 요금제 관련 불편한 점 때문에 기존에 오래 사용하던 통신사가 아닌 다른 통신사의 요금제로 바꾼 경험이 있었기 때문에, 관심이 생기는 주제였습니다. \r\n",
        "\r\n",
        "사람들이 통신사를 바꾸게 될 때 단순히 불편해서만이 아닌, 보편적인 이유가 있을지 궁금해져서 여러 특성들을 통해 통신사 변경 여부를 예측하는 모델을 만들어 보려고 합니다."
      ]
    },
    {
      "cell_type": "markdown",
      "metadata": {
        "id": "7hJSq1pvh6iw"
      },
      "source": [
        "### **특성 설명**\r\n",
        "\r\n",
        "* Gender : 성별 \r\n",
        "\r\n",
        "* SeniorCitizen : 고령 여부 \r\n",
        "\r\n",
        "* Partner : 배우자 유무 \r\n",
        "\r\n",
        "* Dependents : 부양가족 유무 \r\n",
        "\r\n",
        "* Tenure : 직장 근속 개월수 \r\n",
        "\r\n",
        "* PhoneService : 전화 서비스 여부 \r\n",
        "\r\n",
        "* MultipleLines : 다중 회선 여부\r\n",
        "\r\n",
        "* InternetService : 인터넷 공급자 \r\n",
        "  *  DSL\r\n",
        "  *  Fiber optic\r\n",
        "\r\n",
        "* OnlineSecurity : 온라인 보안 서비스 이용 여부\r\n",
        "\r\n",
        "* OnlineBackup : 온라인 백업 서비스 이용 여부\r\n",
        "\r\n",
        "* DeviceProtection : 기기보호 서비스 이용 여부\r\n",
        "\r\n",
        "* TechSupport : 기술지원 서비스 이용 여부 \r\n",
        "\r\n",
        "* StreamingTV : TV채널 스트리밍 이용 여부\r\n",
        "\r\n",
        "* StreamingMovies : 영화 스트리밍 이용 여부 \r\n",
        "\r\n",
        "* Contract : 계약 기간 \r\n",
        "  * Month-to-Month \r\n",
        "  * One year \r\n",
        "  * Two year\r\n",
        "\r\n",
        "* PaperlessBilling : 종이 고지서 신청 여부\r\n",
        "\r\n",
        "* PaymentMethod : 요금 지불 방법\r\n",
        "  * Electronic check\r\n",
        "  * Bank transfer (automatic)\r\n",
        "  * Mailed check\r\n",
        "  * Credit card (automatic)\r\n",
        "\r\n",
        "* MonthlyCharges : 월별 요금 \r\n",
        "\r\n",
        "* TotalCharges : 총 요금 \r\n",
        "\r\n",
        "* Churn : 이용자 서비스 해지 여부"
      ]
    },
    {
      "cell_type": "code",
      "metadata": {
        "id": "R-QZ4BXlZlo6"
      },
      "source": [
        "%%capture\r\n",
        "import sys\r\n",
        "\r\n",
        "if 'google.colab' in sys.modules:\r\n",
        "    # Install packages in Colab\r\n",
        "    !pip install category_encoders==2.*\r\n",
        "    !pip install eli5\r\n",
        "    !pip install pandas-profiling==2.*\r\n",
        "    !pip install pdpbox\r\n",
        "    !pip install shap\r\n",
        "    !pip install catboost"
      ],
      "execution_count": 1,
      "outputs": []
    },
    {
      "cell_type": "code",
      "metadata": {
        "id": "NhOurIuKU0Jq"
      },
      "source": [
        "import warnings\r\n",
        "warnings.filterwarnings(action='ignore')"
      ],
      "execution_count": 2,
      "outputs": []
    },
    {
      "cell_type": "code",
      "metadata": {
        "colab": {
          "base_uri": "https://localhost:8080/",
          "height": 303
        },
        "id": "ePjUHvoEhmXv",
        "outputId": "03087bf9-2a48-4010-8c5e-9ea7bb290ef2"
      },
      "source": [
        "import pandas as pd\r\n",
        "import numpy as np\r\n",
        "import seaborn as sns\r\n",
        "import matplotlib.pyplot as plt\r\n",
        "import os\r\n",
        "from google.colab import drive\r\n",
        "\r\n",
        "drive.mount('/content/drive')\r\n",
        "df = pd.read_csv('/content/drive/My Drive/Telco-Customer-Churn.csv')\r\n",
        "df = df.drop('customerID',axis=1)\r\n",
        "df.head()"
      ],
      "execution_count": 3,
      "outputs": [
        {
          "output_type": "stream",
          "text": [
            "Drive already mounted at /content/drive; to attempt to forcibly remount, call drive.mount(\"/content/drive\", force_remount=True).\n"
          ],
          "name": "stdout"
        },
        {
          "output_type": "execute_result",
          "data": {
            "text/html": [
              "<div>\n",
              "<style scoped>\n",
              "    .dataframe tbody tr th:only-of-type {\n",
              "        vertical-align: middle;\n",
              "    }\n",
              "\n",
              "    .dataframe tbody tr th {\n",
              "        vertical-align: top;\n",
              "    }\n",
              "\n",
              "    .dataframe thead th {\n",
              "        text-align: right;\n",
              "    }\n",
              "</style>\n",
              "<table border=\"1\" class=\"dataframe\">\n",
              "  <thead>\n",
              "    <tr style=\"text-align: right;\">\n",
              "      <th></th>\n",
              "      <th>gender</th>\n",
              "      <th>SeniorCitizen</th>\n",
              "      <th>Partner</th>\n",
              "      <th>Dependents</th>\n",
              "      <th>tenure</th>\n",
              "      <th>PhoneService</th>\n",
              "      <th>MultipleLines</th>\n",
              "      <th>InternetService</th>\n",
              "      <th>OnlineSecurity</th>\n",
              "      <th>OnlineBackup</th>\n",
              "      <th>DeviceProtection</th>\n",
              "      <th>TechSupport</th>\n",
              "      <th>StreamingTV</th>\n",
              "      <th>StreamingMovies</th>\n",
              "      <th>Contract</th>\n",
              "      <th>PaperlessBilling</th>\n",
              "      <th>PaymentMethod</th>\n",
              "      <th>MonthlyCharges</th>\n",
              "      <th>TotalCharges</th>\n",
              "      <th>Churn</th>\n",
              "    </tr>\n",
              "  </thead>\n",
              "  <tbody>\n",
              "    <tr>\n",
              "      <th>0</th>\n",
              "      <td>Female</td>\n",
              "      <td>0</td>\n",
              "      <td>Yes</td>\n",
              "      <td>No</td>\n",
              "      <td>1</td>\n",
              "      <td>No</td>\n",
              "      <td>No phone service</td>\n",
              "      <td>DSL</td>\n",
              "      <td>No</td>\n",
              "      <td>Yes</td>\n",
              "      <td>No</td>\n",
              "      <td>No</td>\n",
              "      <td>No</td>\n",
              "      <td>No</td>\n",
              "      <td>Month-to-month</td>\n",
              "      <td>Yes</td>\n",
              "      <td>Electronic check</td>\n",
              "      <td>29.85</td>\n",
              "      <td>29.85</td>\n",
              "      <td>No</td>\n",
              "    </tr>\n",
              "    <tr>\n",
              "      <th>1</th>\n",
              "      <td>Male</td>\n",
              "      <td>0</td>\n",
              "      <td>No</td>\n",
              "      <td>No</td>\n",
              "      <td>34</td>\n",
              "      <td>Yes</td>\n",
              "      <td>No</td>\n",
              "      <td>DSL</td>\n",
              "      <td>Yes</td>\n",
              "      <td>No</td>\n",
              "      <td>Yes</td>\n",
              "      <td>No</td>\n",
              "      <td>No</td>\n",
              "      <td>No</td>\n",
              "      <td>One year</td>\n",
              "      <td>No</td>\n",
              "      <td>Mailed check</td>\n",
              "      <td>56.95</td>\n",
              "      <td>1889.50</td>\n",
              "      <td>No</td>\n",
              "    </tr>\n",
              "    <tr>\n",
              "      <th>2</th>\n",
              "      <td>Male</td>\n",
              "      <td>0</td>\n",
              "      <td>No</td>\n",
              "      <td>No</td>\n",
              "      <td>2</td>\n",
              "      <td>Yes</td>\n",
              "      <td>No</td>\n",
              "      <td>DSL</td>\n",
              "      <td>Yes</td>\n",
              "      <td>Yes</td>\n",
              "      <td>No</td>\n",
              "      <td>No</td>\n",
              "      <td>No</td>\n",
              "      <td>No</td>\n",
              "      <td>Month-to-month</td>\n",
              "      <td>Yes</td>\n",
              "      <td>Mailed check</td>\n",
              "      <td>53.85</td>\n",
              "      <td>108.15</td>\n",
              "      <td>Yes</td>\n",
              "    </tr>\n",
              "    <tr>\n",
              "      <th>3</th>\n",
              "      <td>Male</td>\n",
              "      <td>0</td>\n",
              "      <td>No</td>\n",
              "      <td>No</td>\n",
              "      <td>45</td>\n",
              "      <td>No</td>\n",
              "      <td>No phone service</td>\n",
              "      <td>DSL</td>\n",
              "      <td>Yes</td>\n",
              "      <td>No</td>\n",
              "      <td>Yes</td>\n",
              "      <td>Yes</td>\n",
              "      <td>No</td>\n",
              "      <td>No</td>\n",
              "      <td>One year</td>\n",
              "      <td>No</td>\n",
              "      <td>Bank transfer (automatic)</td>\n",
              "      <td>42.30</td>\n",
              "      <td>1840.75</td>\n",
              "      <td>No</td>\n",
              "    </tr>\n",
              "    <tr>\n",
              "      <th>4</th>\n",
              "      <td>Female</td>\n",
              "      <td>0</td>\n",
              "      <td>No</td>\n",
              "      <td>No</td>\n",
              "      <td>2</td>\n",
              "      <td>Yes</td>\n",
              "      <td>No</td>\n",
              "      <td>Fiber optic</td>\n",
              "      <td>No</td>\n",
              "      <td>No</td>\n",
              "      <td>No</td>\n",
              "      <td>No</td>\n",
              "      <td>No</td>\n",
              "      <td>No</td>\n",
              "      <td>Month-to-month</td>\n",
              "      <td>Yes</td>\n",
              "      <td>Electronic check</td>\n",
              "      <td>70.70</td>\n",
              "      <td>151.65</td>\n",
              "      <td>Yes</td>\n",
              "    </tr>\n",
              "  </tbody>\n",
              "</table>\n",
              "</div>"
            ],
            "text/plain": [
              "   gender  SeniorCitizen Partner  ... MonthlyCharges  TotalCharges Churn\n",
              "0  Female              0     Yes  ...          29.85         29.85    No\n",
              "1    Male              0      No  ...          56.95       1889.50    No\n",
              "2    Male              0      No  ...          53.85        108.15   Yes\n",
              "3    Male              0      No  ...          42.30       1840.75    No\n",
              "4  Female              0      No  ...          70.70        151.65   Yes\n",
              "\n",
              "[5 rows x 20 columns]"
            ]
          },
          "metadata": {
            "tags": []
          },
          "execution_count": 3
        }
      ]
    },
    {
      "cell_type": "markdown",
      "metadata": {
        "id": "qyi-HoaUh9IA"
      },
      "source": [
        "예측할 특성은 Churn, 즉 서비스 이용자가 통신사를 변경했는지의 여부입니다. 타겟의 특성이 yes/no로 이루어져 있기 때문에, 분류 모델을 이용해 이 문제를 해결할 것입니다.\r\n",
        "\r\n",
        "모든 분류 건수 중에서 분류기가 몇 개의 정답을 맞췄는지의 여부를 파악할 필요가 있기 때문에 Accuracy를 사용할 것입니다. 그리고 Accuracy의 단점을 보완하기 위해 추가로 F1 Score를 사용하여 모델의 성능을 평가하려고 합니다.\r\n",
        "\r\n",
        "시계열 데이터가 아니기 때문에, 무작위로 데이터를 분리하여 훈련/검증/테스트 데이터셋을 만드는 방법을 택할 것입니다."
      ]
    },
    {
      "cell_type": "code",
      "metadata": {
        "id": "8oTsUVXoh9-A"
      },
      "source": [
        "def processing(df):\r\n",
        "  #TotalCharges - 숫자형인데 object로 표시되는 데이터를 numeric화\r\n",
        "  df['TotalCharges'] = df['TotalCharges'].str.replace('.','')\r\n",
        "  df['TotalCharges'] = pd.to_numeric(df['TotalCharges'],errors='coerce')\r\n",
        "\r\n",
        "  #Contract - 문자로 되어있는 계약 기간을 바꾸기\r\n",
        "  mapping = {'Month-to-month':0,'One year':1,'Two year':2}\r\n",
        "  df['Contract'] = df['Contract'].replace(mapping)\r\n",
        "\r\n",
        "  #MultipleLines - yes / no / no phone service를 숫자로 바꾸기\r\n",
        "  mapping2 = {'No phone service':0,'No':1,'Yes':2}\r\n",
        "  df['MultipleLines'] = df['MultipleLines'].replace(mapping2)\r\n",
        "\r\n",
        "  #그 외 yes/no/no internet service를 항목으로 가지는 특성들 숫자로 바꾸기\r\n",
        "  mapping3 = {'No internet service':0,'No':1,'Yes':2}\r\n",
        "  no_internet_feature = ['OnlineSecurity','OnlineBackup','DeviceProtection','TechSupport','StreamingTV','StreamingMovies']\r\n",
        "  df[no_internet_feature] = df[no_internet_feature].replace(mapping3)\r\n",
        "\r\n",
        "  #Chrun - yes/no를 숫자로 바꾸기\r\n",
        "  mapping4 = {'No':0,'Yes':1}\r\n",
        "  df['Churn'] = df['Churn'].replace(mapping4)\r\n",
        "\r\n",
        "processing(df)"
      ],
      "execution_count": 4,
      "outputs": []
    },
    {
      "cell_type": "markdown",
      "metadata": {
        "id": "G73cyl-3WNwq"
      },
      "source": [
        "**만들 수 있는 특성**\r\n",
        "1. 배우자와 부양가족이 모두 있는지 여부\r\n",
        "2. 온라인 보안, 백업 서비스를 모두 사용하는지 여부\r\n",
        "3. tv채널과 영화 스트리밍 서비스를 모두 이용하는지 여부\r\n",
        "4. 계약 기간별 월별 요금"
      ]
    },
    {
      "cell_type": "code",
      "metadata": {
        "colab": {
          "base_uri": "https://localhost:8080/",
          "height": 234
        },
        "id": "Nn9VvShoh_8q",
        "outputId": "4751fdbe-4a67-4bd2-b6fe-670e11c25e3a"
      },
      "source": [
        "def features(df):\r\n",
        "  #배우자와 부양가족이 모두 있는지 여부 - Yes : 1, No : 0\r\n",
        "  df['Family'] = np.where((df['Partner']==1) & (df['Dependents']==1),1,0)\r\n",
        "\r\n",
        "  #온라인 보안, 백업 서비스를 모두 이용하는지 여부\r\n",
        "  df['OnlineService'] = np.where((df['OnlineSecurity']==2) & (df['OnlineBackup']==2),1,0)\r\n",
        "\r\n",
        "  #tv채널과 영화 스트리밍 서비스를 모두 이용하는지 여부\r\n",
        "  df['StreamingService'] = np.where((df['StreamingTV']==2) & (df['StreamingMovies']==2),1,0)\r\n",
        "\r\n",
        "  #온라인, 스트리밍 서비스를 모두 이용하는지 여부\r\n",
        "  df['FullService'] = np.where((df['OnlineService']==1) & (df['StreamingService']==1),1,0)\r\n",
        "\r\n",
        "\r\n",
        "features(df)\r\n",
        "df.head()"
      ],
      "execution_count": 5,
      "outputs": [
        {
          "output_type": "execute_result",
          "data": {
            "text/html": [
              "<div>\n",
              "<style scoped>\n",
              "    .dataframe tbody tr th:only-of-type {\n",
              "        vertical-align: middle;\n",
              "    }\n",
              "\n",
              "    .dataframe tbody tr th {\n",
              "        vertical-align: top;\n",
              "    }\n",
              "\n",
              "    .dataframe thead th {\n",
              "        text-align: right;\n",
              "    }\n",
              "</style>\n",
              "<table border=\"1\" class=\"dataframe\">\n",
              "  <thead>\n",
              "    <tr style=\"text-align: right;\">\n",
              "      <th></th>\n",
              "      <th>gender</th>\n",
              "      <th>SeniorCitizen</th>\n",
              "      <th>Partner</th>\n",
              "      <th>Dependents</th>\n",
              "      <th>tenure</th>\n",
              "      <th>PhoneService</th>\n",
              "      <th>MultipleLines</th>\n",
              "      <th>InternetService</th>\n",
              "      <th>OnlineSecurity</th>\n",
              "      <th>OnlineBackup</th>\n",
              "      <th>DeviceProtection</th>\n",
              "      <th>TechSupport</th>\n",
              "      <th>StreamingTV</th>\n",
              "      <th>StreamingMovies</th>\n",
              "      <th>Contract</th>\n",
              "      <th>PaperlessBilling</th>\n",
              "      <th>PaymentMethod</th>\n",
              "      <th>MonthlyCharges</th>\n",
              "      <th>TotalCharges</th>\n",
              "      <th>Churn</th>\n",
              "      <th>Family</th>\n",
              "      <th>OnlineService</th>\n",
              "      <th>StreamingService</th>\n",
              "      <th>FullService</th>\n",
              "    </tr>\n",
              "  </thead>\n",
              "  <tbody>\n",
              "    <tr>\n",
              "      <th>0</th>\n",
              "      <td>Female</td>\n",
              "      <td>0</td>\n",
              "      <td>Yes</td>\n",
              "      <td>No</td>\n",
              "      <td>1</td>\n",
              "      <td>No</td>\n",
              "      <td>0</td>\n",
              "      <td>DSL</td>\n",
              "      <td>1</td>\n",
              "      <td>2</td>\n",
              "      <td>1</td>\n",
              "      <td>1</td>\n",
              "      <td>1</td>\n",
              "      <td>1</td>\n",
              "      <td>0</td>\n",
              "      <td>Yes</td>\n",
              "      <td>Electronic check</td>\n",
              "      <td>29.85</td>\n",
              "      <td>2985.0</td>\n",
              "      <td>0</td>\n",
              "      <td>0</td>\n",
              "      <td>0</td>\n",
              "      <td>0</td>\n",
              "      <td>0</td>\n",
              "    </tr>\n",
              "    <tr>\n",
              "      <th>1</th>\n",
              "      <td>Male</td>\n",
              "      <td>0</td>\n",
              "      <td>No</td>\n",
              "      <td>No</td>\n",
              "      <td>34</td>\n",
              "      <td>Yes</td>\n",
              "      <td>1</td>\n",
              "      <td>DSL</td>\n",
              "      <td>2</td>\n",
              "      <td>1</td>\n",
              "      <td>2</td>\n",
              "      <td>1</td>\n",
              "      <td>1</td>\n",
              "      <td>1</td>\n",
              "      <td>1</td>\n",
              "      <td>No</td>\n",
              "      <td>Mailed check</td>\n",
              "      <td>56.95</td>\n",
              "      <td>188950.0</td>\n",
              "      <td>0</td>\n",
              "      <td>0</td>\n",
              "      <td>0</td>\n",
              "      <td>0</td>\n",
              "      <td>0</td>\n",
              "    </tr>\n",
              "    <tr>\n",
              "      <th>2</th>\n",
              "      <td>Male</td>\n",
              "      <td>0</td>\n",
              "      <td>No</td>\n",
              "      <td>No</td>\n",
              "      <td>2</td>\n",
              "      <td>Yes</td>\n",
              "      <td>1</td>\n",
              "      <td>DSL</td>\n",
              "      <td>2</td>\n",
              "      <td>2</td>\n",
              "      <td>1</td>\n",
              "      <td>1</td>\n",
              "      <td>1</td>\n",
              "      <td>1</td>\n",
              "      <td>0</td>\n",
              "      <td>Yes</td>\n",
              "      <td>Mailed check</td>\n",
              "      <td>53.85</td>\n",
              "      <td>10815.0</td>\n",
              "      <td>1</td>\n",
              "      <td>0</td>\n",
              "      <td>1</td>\n",
              "      <td>0</td>\n",
              "      <td>0</td>\n",
              "    </tr>\n",
              "    <tr>\n",
              "      <th>3</th>\n",
              "      <td>Male</td>\n",
              "      <td>0</td>\n",
              "      <td>No</td>\n",
              "      <td>No</td>\n",
              "      <td>45</td>\n",
              "      <td>No</td>\n",
              "      <td>0</td>\n",
              "      <td>DSL</td>\n",
              "      <td>2</td>\n",
              "      <td>1</td>\n",
              "      <td>2</td>\n",
              "      <td>2</td>\n",
              "      <td>1</td>\n",
              "      <td>1</td>\n",
              "      <td>1</td>\n",
              "      <td>No</td>\n",
              "      <td>Bank transfer (automatic)</td>\n",
              "      <td>42.30</td>\n",
              "      <td>184075.0</td>\n",
              "      <td>0</td>\n",
              "      <td>0</td>\n",
              "      <td>0</td>\n",
              "      <td>0</td>\n",
              "      <td>0</td>\n",
              "    </tr>\n",
              "    <tr>\n",
              "      <th>4</th>\n",
              "      <td>Female</td>\n",
              "      <td>0</td>\n",
              "      <td>No</td>\n",
              "      <td>No</td>\n",
              "      <td>2</td>\n",
              "      <td>Yes</td>\n",
              "      <td>1</td>\n",
              "      <td>Fiber optic</td>\n",
              "      <td>1</td>\n",
              "      <td>1</td>\n",
              "      <td>1</td>\n",
              "      <td>1</td>\n",
              "      <td>1</td>\n",
              "      <td>1</td>\n",
              "      <td>0</td>\n",
              "      <td>Yes</td>\n",
              "      <td>Electronic check</td>\n",
              "      <td>70.70</td>\n",
              "      <td>15165.0</td>\n",
              "      <td>1</td>\n",
              "      <td>0</td>\n",
              "      <td>0</td>\n",
              "      <td>0</td>\n",
              "      <td>0</td>\n",
              "    </tr>\n",
              "  </tbody>\n",
              "</table>\n",
              "</div>"
            ],
            "text/plain": [
              "   gender  SeniorCitizen Partner  ... OnlineService  StreamingService FullService\n",
              "0  Female              0     Yes  ...             0                 0           0\n",
              "1    Male              0      No  ...             0                 0           0\n",
              "2    Male              0      No  ...             1                 0           0\n",
              "3    Male              0      No  ...             0                 0           0\n",
              "4  Female              0      No  ...             0                 0           0\n",
              "\n",
              "[5 rows x 24 columns]"
            ]
          },
          "metadata": {
            "tags": []
          },
          "execution_count": 5
        }
      ]
    },
    {
      "cell_type": "markdown",
      "metadata": {
        "id": "gRPgMOi_W8PZ"
      },
      "source": [
        "> 고객당 월별 요금이 가장 높은 지불 방법"
      ]
    },
    {
      "cell_type": "code",
      "metadata": {
        "colab": {
          "base_uri": "https://localhost:8080/",
          "height": 167
        },
        "id": "OLLocIB1W78q",
        "outputId": "390b5091-7270-4583-e7fc-a2c592a70a0c"
      },
      "source": [
        "monthly_charges_by_pay_method = df.groupby(['PaymentMethod']).mean()[['MonthlyCharges']].reset_index()\r\n",
        "monthly_charges_by_pay_method.head()"
      ],
      "execution_count": 6,
      "outputs": [
        {
          "output_type": "execute_result",
          "data": {
            "text/html": [
              "<div>\n",
              "<style scoped>\n",
              "    .dataframe tbody tr th:only-of-type {\n",
              "        vertical-align: middle;\n",
              "    }\n",
              "\n",
              "    .dataframe tbody tr th {\n",
              "        vertical-align: top;\n",
              "    }\n",
              "\n",
              "    .dataframe thead th {\n",
              "        text-align: right;\n",
              "    }\n",
              "</style>\n",
              "<table border=\"1\" class=\"dataframe\">\n",
              "  <thead>\n",
              "    <tr style=\"text-align: right;\">\n",
              "      <th></th>\n",
              "      <th>PaymentMethod</th>\n",
              "      <th>MonthlyCharges</th>\n",
              "    </tr>\n",
              "  </thead>\n",
              "  <tbody>\n",
              "    <tr>\n",
              "      <th>0</th>\n",
              "      <td>Bank transfer (automatic)</td>\n",
              "      <td>67.192649</td>\n",
              "    </tr>\n",
              "    <tr>\n",
              "      <th>1</th>\n",
              "      <td>Credit card (automatic)</td>\n",
              "      <td>66.512385</td>\n",
              "    </tr>\n",
              "    <tr>\n",
              "      <th>2</th>\n",
              "      <td>Electronic check</td>\n",
              "      <td>76.255814</td>\n",
              "    </tr>\n",
              "    <tr>\n",
              "      <th>3</th>\n",
              "      <td>Mailed check</td>\n",
              "      <td>43.917060</td>\n",
              "    </tr>\n",
              "  </tbody>\n",
              "</table>\n",
              "</div>"
            ],
            "text/plain": [
              "               PaymentMethod  MonthlyCharges\n",
              "0  Bank transfer (automatic)       67.192649\n",
              "1    Credit card (automatic)       66.512385\n",
              "2           Electronic check       76.255814\n",
              "3               Mailed check       43.917060"
            ]
          },
          "metadata": {
            "tags": []
          },
          "execution_count": 6
        }
      ]
    },
    {
      "cell_type": "code",
      "metadata": {
        "colab": {
          "base_uri": "https://localhost:8080/",
          "height": 422
        },
        "id": "Fj-kooZ3XCux",
        "outputId": "a72a4b26-472f-4276-dcec-2abf87fa9fc3"
      },
      "source": [
        "plt.figure(figsize = (10, 6))\r\n",
        "sns.barplot(x='PaymentMethod',y='MonthlyCharges',data=monthly_charges_by_pay_method, palette='hls')\r\n",
        "plt.title('Monthly Charges by Payment Method')"
      ],
      "execution_count": 7,
      "outputs": [
        {
          "output_type": "execute_result",
          "data": {
            "text/plain": [
              "Text(0.5, 1.0, 'Monthly Charges by Payment Method')"
            ]
          },
          "metadata": {
            "tags": []
          },
          "execution_count": 7
        },
        {
          "output_type": "display_data",
          "data": {
            "image/png": "[encoded data removed]",
            "text/plain": [
              "<Figure size 720x432 with 1 Axes>"
            ]
          },
          "metadata": {
            "tags": [],
            "needs_background": "light"
          }
        }
      ]
    },
    {
      "cell_type": "markdown",
      "metadata": {
        "id": "mcKZxOxJXGNx"
      },
      "source": [
        "> 월별 요금에 따른 통신사 이적 여부"
      ]
    },
    {
      "cell_type": "code",
      "metadata": {
        "colab": {
          "base_uri": "https://localhost:8080/",
          "height": 313
        },
        "id": "Zm_248UjXIBh",
        "outputId": "b7f0d0a3-c967-4c22-81a7-d728e7e02041"
      },
      "source": [
        "sns.boxplot(\r\n",
        "    x = 'Churn',\r\n",
        "    y = 'MonthlyCharges',\r\n",
        "    data = df,\r\n",
        "    palette='husl'\r\n",
        ")\r\n",
        "plt.title('Customer Churn by Monthly Charges')"
      ],
      "execution_count": 8,
      "outputs": [
        {
          "output_type": "execute_result",
          "data": {
            "text/plain": [
              "Text(0.5, 1.0, 'Customer Churn by Monthly Charges')"
            ]
          },
          "metadata": {
            "tags": []
          },
          "execution_count": 8
        },
        {
          "output_type": "display_data",
          "data": {
            "image/png": "[encoded data removed]",
            "text/plain": [
              "<Figure size 432x288 with 1 Axes>"
            ]
          },
          "metadata": {
            "tags": [],
            "needs_background": "light"
          }
        }
      ]
    },
    {
      "cell_type": "markdown",
      "metadata": {
        "id": "rHYotjvQXLpi"
      },
      "source": [
        "> 성별에 따른 총 요금 분포"
      ]
    },
    {
      "cell_type": "code",
      "metadata": {
        "colab": {
          "base_uri": "https://localhost:8080/",
          "height": 313
        },
        "id": "8b9dr0VeXKFp",
        "outputId": "af02f432-184c-4fdf-e1f0-18d1fd02b9da"
      },
      "source": [
        "sns.boxplot(\r\n",
        "    x = 'gender',\r\n",
        "    y = 'TotalCharges',\r\n",
        "    data = df,\r\n",
        "    palette='Set2'\r\n",
        ")\r\n",
        "plt.title('Total Charges by Gender')"
      ],
      "execution_count": 9,
      "outputs": [
        {
          "output_type": "execute_result",
          "data": {
            "text/plain": [
              "Text(0.5, 1.0, 'Total Charges by Gender')"
            ]
          },
          "metadata": {
            "tags": []
          },
          "execution_count": 9
        },
        {
          "output_type": "display_data",
          "data": {
            "image/png": "[encoded data removed]",
            "text/plain": [
              "<Figure size 432x288 with 1 Axes>"
            ]
          },
          "metadata": {
            "tags": [],
            "needs_background": "light"
          }
        }
      ]
    },
    {
      "cell_type": "markdown",
      "metadata": {
        "id": "UOo60EY6XQZC"
      },
      "source": [
        "> 온라인 서비스를 사용하는 사람들의 통신사 이적 비율"
      ]
    },
    {
      "cell_type": "code",
      "metadata": {
        "colab": {
          "base_uri": "https://localhost:8080/",
          "height": 313
        },
        "id": "BAjHAgIsXO4x",
        "outputId": "3b3d493b-a2a5-4039-9acc-770106c313f9"
      },
      "source": [
        "sns.countplot(x='OnlineService',hue = 'Churn',data=df,palette='Paired')\r\n",
        "plt.title('Churn by Online Services')"
      ],
      "execution_count": 10,
      "outputs": [
        {
          "output_type": "execute_result",
          "data": {
            "text/plain": [
              "Text(0.5, 1.0, 'Churn by Online Services')"
            ]
          },
          "metadata": {
            "tags": []
          },
          "execution_count": 10
        },
        {
          "output_type": "display_data",
          "data": {
            "image/png": "[encoded data removed]",
            "text/plain": [
              "<Figure size 432x288 with 1 Axes>"
            ]
          },
          "metadata": {
            "tags": [],
            "needs_background": "light"
          }
        }
      ]
    },
    {
      "cell_type": "markdown",
      "metadata": {
        "id": "nT-yPdlAXS8z"
      },
      "source": [
        "> 스트리밍 서비스를 사용하는 사람들의 통신사 이적 비율"
      ]
    },
    {
      "cell_type": "code",
      "metadata": {
        "colab": {
          "base_uri": "https://localhost:8080/",
          "height": 313
        },
        "id": "c2e3aFhNXVwZ",
        "outputId": "4863c2d9-c564-4af5-bd0d-e6ebe78c1eee"
      },
      "source": [
        "sns.countplot(x='StreamingService',hue = 'Churn',data=df,palette='deep')\r\n",
        "plt.title('Churn by Streaming Services')"
      ],
      "execution_count": 11,
      "outputs": [
        {
          "output_type": "execute_result",
          "data": {
            "text/plain": [
              "Text(0.5, 1.0, 'Churn by Streaming Services')"
            ]
          },
          "metadata": {
            "tags": []
          },
          "execution_count": 11
        },
        {
          "output_type": "display_data",
          "data": {
            "image/png": "[encoded data removed]",
            "text/plain": [
              "<Figure size 432x288 with 1 Axes>"
            ]
          },
          "metadata": {
            "tags": [],
            "needs_background": "light"
          }
        }
      ]
    },
    {
      "cell_type": "code",
      "metadata": {
        "colab": {
          "base_uri": "https://localhost:8080/"
        },
        "id": "wMSj6jlBnQZ0",
        "outputId": "2f2f6951-9bdf-48e0-cb5c-9d4eb68b36ea"
      },
      "source": [
        "from sklearn.model_selection import train_test_split\r\n",
        "train, val = train_test_split(df, test_size=0.1, random_state=2)\r\n",
        "train, test = train_test_split(train, test_size=0.05, random_state=2)\r\n",
        "train.shape, val.shape, test.shape"
      ],
      "execution_count": 12,
      "outputs": [
        {
          "output_type": "execute_result",
          "data": {
            "text/plain": [
              "((6021, 24), (705, 24), (317, 24))"
            ]
          },
          "metadata": {
            "tags": []
          },
          "execution_count": 12
        }
      ]
    },
    {
      "cell_type": "code",
      "metadata": {
        "id": "WIGO8yX9nR9C"
      },
      "source": [
        "target = 'Churn'\r\n",
        "features = ['gender', 'SeniorCitizen', 'tenure','PhoneService', 'MultipleLines', \r\n",
        "            'InternetService', 'DeviceProtection', 'TechSupport', 'Contract',\r\n",
        "            'PaperlessBilling', 'PaymentMethod','MonthlyCharges', 'TotalCharges',\r\n",
        "            'Family','OnlineService','StreamingService','FullService']\r\n",
        "\r\n",
        "X_train = train[features]\r\n",
        "y_train = train[target]\r\n",
        "X_val = val[features]\r\n",
        "y_val = val[target]\r\n",
        "X_test = test[features]\r\n",
        "y_test = test[target]"
      ],
      "execution_count": 13,
      "outputs": []
    },
    {
      "cell_type": "markdown",
      "metadata": {
        "id": "Dmtnk1dDZ3bR"
      },
      "source": [
        "> 타겟 특성의 비율을 알아보고, 가중치 부여하기"
      ]
    },
    {
      "cell_type": "code",
      "metadata": {
        "colab": {
          "base_uri": "https://localhost:8080/"
        },
        "id": "C7mJm9w_Z5Lb",
        "outputId": "3586ba74-4a4b-4af3-c192-2a574145792b"
      },
      "source": [
        "y_train.value_counts(normalize=True)"
      ],
      "execution_count": 14,
      "outputs": [
        {
          "output_type": "execute_result",
          "data": {
            "text/plain": [
              "0    0.731274\n",
              "1    0.268726\n",
              "Name: Churn, dtype: float64"
            ]
          },
          "metadata": {
            "tags": []
          },
          "execution_count": 14
        }
      ]
    },
    {
      "cell_type": "code",
      "metadata": {
        "colab": {
          "base_uri": "https://localhost:8080/"
        },
        "id": "MmOi6x9ZZ7VP",
        "outputId": "d0e043a0-879d-4e8b-fc41-0d2b198865f4"
      },
      "source": [
        "#가중치\r\n",
        "ratio = 0.26/0.73\r\n",
        "ratio"
      ],
      "execution_count": 15,
      "outputs": [
        {
          "output_type": "execute_result",
          "data": {
            "text/plain": [
              "0.35616438356164387"
            ]
          },
          "metadata": {
            "tags": []
          },
          "execution_count": 15
        }
      ]
    },
    {
      "cell_type": "markdown",
      "metadata": {
        "id": "bECcdLzWeXQK"
      },
      "source": [
        "\r\n",
        "\r\n",
        "\r\n",
        "\r\n",
        "> Baseline\r\n",
        "\r\n",
        "\r\n"
      ]
    },
    {
      "cell_type": "code",
      "metadata": {
        "colab": {
          "base_uri": "https://localhost:8080/"
        },
        "id": "-iXIkDArUBY6",
        "outputId": "e8225b7b-4d8e-4abd-e88d-1e8e256bb399"
      },
      "source": [
        "from category_encoders import OrdinalEncoder\r\n",
        "from category_encoders import OneHotEncoder\r\n",
        "from sklearn.preprocessing import LabelEncoder\r\n",
        "from sklearn.pipeline import make_pipeline\r\n",
        "from sklearn.pipeline import Pipeline\r\n",
        "from sklearn.tree import DecisionTreeClassifier\r\n",
        "from sklearn.ensemble import RandomForestClassifier\r\n",
        "from sklearn.impute import SimpleImputer\r\n",
        "import sklearn.metrics as metrics\r\n",
        "import lightgbm as lgb\r\n",
        "from lightgbm import LGBMClassifier\r\n",
        "\r\n",
        "pipe = Pipeline([\r\n",
        "    ('preprocessing', make_pipeline(OrdinalEncoder(), SimpleImputer())),\r\n",
        "    ('rf', RandomForestClassifier(n_estimators=100, random_state=2, n_jobs=-1)) \r\n",
        "])\r\n",
        "\r\n",
        "pipe.fit(X_train, y_train)\r\n",
        "y_pred = pipe.predict(X_val)\r\n",
        "\r\n",
        "print('훈련 정확도: ', pipe.score(X_train, y_train))\r\n",
        "print('검증 정확도: ', pipe.score(X_val, y_val))\r\n",
        "print('정확도(Accuracy): ', metrics.accuracy_score(y_val, y_pred))\r\n",
        "print('F1 Score: ', metrics.f1_score(y_val, y_pred, average=\"binary\"))"
      ],
      "execution_count": 16,
      "outputs": [
        {
          "output_type": "stream",
          "text": [
            "훈련 정확도:  0.9973426341139345\n",
            "검증 정확도:  0.8056737588652483\n",
            "정확도(Accuracy):  0.8056737588652483\n",
            "F1 Score:  0.5324232081911262\n"
          ],
          "name": "stdout"
        }
      ]
    },
    {
      "cell_type": "markdown",
      "metadata": {
        "id": "5-0xc4nPedgC"
      },
      "source": [
        "\r\n",
        "\r\n",
        "> permutation importance를 통한 feature 선택\r\n",
        "\r\n"
      ]
    },
    {
      "cell_type": "code",
      "metadata": {
        "id": "H43U6vEmYqVh",
        "colab": {
          "base_uri": "https://localhost:8080/",
          "height": 324
        },
        "outputId": "f190ee84-d32d-46a8-a5a0-5b3824919aa6"
      },
      "source": [
        "import eli5\r\n",
        "from eli5.sklearn import PermutationImportance\r\n",
        "\r\n",
        "permuter = PermutationImportance(\r\n",
        "    pipe.named_steps['rf'],\r\n",
        "    scoring='accuracy',\r\n",
        "    n_iter=5, \r\n",
        "    random_state=2\r\n",
        ")\r\n",
        "\r\n",
        "X_val_transformed = pipe.named_steps['preprocessing'].transform(X_val)\r\n",
        "permuter.fit(X_val_transformed, y_val);\r\n",
        "\r\n",
        "eli5.show_weights(\r\n",
        "    permuter, \r\n",
        "    top=None,\r\n",
        "    feature_names=features \r\n",
        ")"
      ],
      "execution_count": 17,
      "outputs": [
        {
          "output_type": "execute_result",
          "data": {
            "text/html": [
              "\n",
              "    <style>\n",
              "    table.eli5-weights tr:hover {\n",
              "        filter: brightness(85%);\n",
              "    }\n",
              "</style>\n",
              "\n",
              "\n",
              "\n",
              "    \n",
              "\n",
              "    \n",
              "\n",
              "    \n",
              "\n",
              "    \n",
              "\n",
              "    \n",
              "\n",
              "    \n",
              "\n",
              "\n",
              "    \n",
              "\n",
              "    \n",
              "\n",
              "    \n",
              "\n",
              "    \n",
              "\n",
              "    \n",
              "\n",
              "    \n",
              "\n",
              "\n",
              "    \n",
              "\n",
              "    \n",
              "\n",
              "    \n",
              "\n",
              "    \n",
              "\n",
              "    \n",
              "        <table class=\"eli5-weights eli5-feature-importances\" style=\"border-collapse: collapse; border: none; margin-top: 0em; table-layout: auto;\">\n",
              "    <thead>\n",
              "    <tr style=\"border: none;\">\n",
              "        <th style=\"padding: 0 1em 0 0.5em; text-align: right; border: none;\">Weight</th>\n",
              "        <th style=\"padding: 0 0.5em 0 0.5em; text-align: left; border: none;\">Feature</th>\n",
              "    </tr>\n",
              "    </thead>\n",
              "    <tbody>\n",
              "    \n",
              "        <tr style=\"background-color: hsl(120, 100.00%, 80.00%); border: none;\">\n",
              "            <td style=\"padding: 0 1em 0 0.5em; text-align: right; border: none;\">\n",
              "                0.0153\n",
              "                \n",
              "                    &plusmn; 0.0210\n",
              "                \n",
              "            </td>\n",
              "            <td style=\"padding: 0 0.5em 0 0.5em; text-align: left; border: none;\">\n",
              "                tenure\n",
              "            </td>\n",
              "        </tr>\n",
              "    \n",
              "        <tr style=\"background-color: hsl(120, 100.00%, 82.12%); border: none;\">\n",
              "            <td style=\"padding: 0 1em 0 0.5em; text-align: right; border: none;\">\n",
              "                0.0130\n",
              "                \n",
              "                    &plusmn; 0.0104\n",
              "                \n",
              "            </td>\n",
              "            <td style=\"padding: 0 0.5em 0 0.5em; text-align: left; border: none;\">\n",
              "                Contract\n",
              "            </td>\n",
              "        </tr>\n",
              "    \n",
              "        <tr style=\"background-color: hsl(120, 100.00%, 82.95%); border: none;\">\n",
              "            <td style=\"padding: 0 1em 0 0.5em; text-align: right; border: none;\">\n",
              "                0.0122\n",
              "                \n",
              "                    &plusmn; 0.0195\n",
              "                \n",
              "            </td>\n",
              "            <td style=\"padding: 0 0.5em 0 0.5em; text-align: left; border: none;\">\n",
              "                TotalCharges\n",
              "            </td>\n",
              "        </tr>\n",
              "    \n",
              "        <tr style=\"background-color: hsl(120, 100.00%, 84.65%); border: none;\">\n",
              "            <td style=\"padding: 0 1em 0 0.5em; text-align: right; border: none;\">\n",
              "                0.0105\n",
              "                \n",
              "                    &plusmn; 0.0077\n",
              "                \n",
              "            </td>\n",
              "            <td style=\"padding: 0 0.5em 0 0.5em; text-align: left; border: none;\">\n",
              "                gender\n",
              "            </td>\n",
              "        </tr>\n",
              "    \n",
              "        <tr style=\"background-color: hsl(120, 100.00%, 88.01%); border: none;\">\n",
              "            <td style=\"padding: 0 1em 0 0.5em; text-align: right; border: none;\">\n",
              "                0.0074\n",
              "                \n",
              "                    &plusmn; 0.0143\n",
              "                \n",
              "            </td>\n",
              "            <td style=\"padding: 0 0.5em 0 0.5em; text-align: left; border: none;\">\n",
              "                InternetService\n",
              "            </td>\n",
              "        </tr>\n",
              "    \n",
              "        <tr style=\"background-color: hsl(120, 100.00%, 88.01%); border: none;\">\n",
              "            <td style=\"padding: 0 1em 0 0.5em; text-align: right; border: none;\">\n",
              "                0.0074\n",
              "                \n",
              "                    &plusmn; 0.0068\n",
              "                \n",
              "            </td>\n",
              "            <td style=\"padding: 0 0.5em 0 0.5em; text-align: left; border: none;\">\n",
              "                MultipleLines\n",
              "            </td>\n",
              "        </tr>\n",
              "    \n",
              "        <tr style=\"background-color: hsl(120, 100.00%, 92.62%); border: none;\">\n",
              "            <td style=\"padding: 0 1em 0 0.5em; text-align: right; border: none;\">\n",
              "                0.0037\n",
              "                \n",
              "                    &plusmn; 0.0109\n",
              "                \n",
              "            </td>\n",
              "            <td style=\"padding: 0 0.5em 0 0.5em; text-align: left; border: none;\">\n",
              "                PaymentMethod\n",
              "            </td>\n",
              "        </tr>\n",
              "    \n",
              "        <tr style=\"background-color: hsl(120, 100.00%, 93.02%); border: none;\">\n",
              "            <td style=\"padding: 0 1em 0 0.5em; text-align: right; border: none;\">\n",
              "                0.0034\n",
              "                \n",
              "                    &plusmn; 0.0149\n",
              "                \n",
              "            </td>\n",
              "            <td style=\"padding: 0 0.5em 0 0.5em; text-align: left; border: none;\">\n",
              "                SeniorCitizen\n",
              "            </td>\n",
              "        </tr>\n",
              "    \n",
              "        <tr style=\"background-color: hsl(120, 100.00%, 93.43%); border: none;\">\n",
              "            <td style=\"padding: 0 1em 0 0.5em; text-align: right; border: none;\">\n",
              "                0.0031\n",
              "                \n",
              "                    &plusmn; 0.0068\n",
              "                \n",
              "            </td>\n",
              "            <td style=\"padding: 0 0.5em 0 0.5em; text-align: left; border: none;\">\n",
              "                OnlineService\n",
              "            </td>\n",
              "        </tr>\n",
              "    \n",
              "        <tr style=\"background-color: hsl(120, 100.00%, 95.21%); border: none;\">\n",
              "            <td style=\"padding: 0 1em 0 0.5em; text-align: right; border: none;\">\n",
              "                0.0020\n",
              "                \n",
              "                    &plusmn; 0.0121\n",
              "                \n",
              "            </td>\n",
              "            <td style=\"padding: 0 0.5em 0 0.5em; text-align: left; border: none;\">\n",
              "                StreamingService\n",
              "            </td>\n",
              "        </tr>\n",
              "    \n",
              "        <tr style=\"background-color: hsl(120, 100.00%, 95.70%); border: none;\">\n",
              "            <td style=\"padding: 0 1em 0 0.5em; text-align: right; border: none;\">\n",
              "                0.0017\n",
              "                \n",
              "                    &plusmn; 0.0166\n",
              "                \n",
              "            </td>\n",
              "            <td style=\"padding: 0 0.5em 0 0.5em; text-align: left; border: none;\">\n",
              "                PaperlessBilling\n",
              "            </td>\n",
              "        </tr>\n",
              "    \n",
              "        <tr style=\"background-color: hsl(120, 100.00%, 96.22%); border: none;\">\n",
              "            <td style=\"padding: 0 1em 0 0.5em; text-align: right; border: none;\">\n",
              "                0.0014\n",
              "                \n",
              "                    &plusmn; 0.0171\n",
              "                \n",
              "            </td>\n",
              "            <td style=\"padding: 0 0.5em 0 0.5em; text-align: left; border: none;\">\n",
              "                MonthlyCharges\n",
              "            </td>\n",
              "        </tr>\n",
              "    \n",
              "        <tr style=\"background-color: hsl(120, 100.00%, 98.01%); border: none;\">\n",
              "            <td style=\"padding: 0 1em 0 0.5em; text-align: right; border: none;\">\n",
              "                0.0006\n",
              "                \n",
              "                    &plusmn; 0.0114\n",
              "                \n",
              "            </td>\n",
              "            <td style=\"padding: 0 0.5em 0 0.5em; text-align: left; border: none;\">\n",
              "                DeviceProtection\n",
              "            </td>\n",
              "        </tr>\n",
              "    \n",
              "        <tr style=\"background-color: hsl(0, 100.00%, 100.00%); border: none;\">\n",
              "            <td style=\"padding: 0 1em 0 0.5em; text-align: right; border: none;\">\n",
              "                0\n",
              "                \n",
              "                    &plusmn; 0.0000\n",
              "                \n",
              "            </td>\n",
              "            <td style=\"padding: 0 0.5em 0 0.5em; text-align: left; border: none;\">\n",
              "                Family\n",
              "            </td>\n",
              "        </tr>\n",
              "    \n",
              "        <tr style=\"background-color: hsl(0, 100.00%, 97.36%); border: none;\">\n",
              "            <td style=\"padding: 0 1em 0 0.5em; text-align: right; border: none;\">\n",
              "                -0.0009\n",
              "                \n",
              "                    &plusmn; 0.0014\n",
              "                \n",
              "            </td>\n",
              "            <td style=\"padding: 0 0.5em 0 0.5em; text-align: left; border: none;\">\n",
              "                FullService\n",
              "            </td>\n",
              "        </tr>\n",
              "    \n",
              "        <tr style=\"background-color: hsl(0, 100.00%, 95.70%); border: none;\">\n",
              "            <td style=\"padding: 0 1em 0 0.5em; text-align: right; border: none;\">\n",
              "                -0.0017\n",
              "                \n",
              "                    &plusmn; 0.0130\n",
              "                \n",
              "            </td>\n",
              "            <td style=\"padding: 0 0.5em 0 0.5em; text-align: left; border: none;\">\n",
              "                TechSupport\n",
              "            </td>\n",
              "        </tr>\n",
              "    \n",
              "        <tr style=\"background-color: hsl(0, 100.00%, 95.70%); border: none;\">\n",
              "            <td style=\"padding: 0 1em 0 0.5em; text-align: right; border: none;\">\n",
              "                -0.0017\n",
              "                \n",
              "                    &plusmn; 0.0011\n",
              "                \n",
              "            </td>\n",
              "            <td style=\"padding: 0 0.5em 0 0.5em; text-align: left; border: none;\">\n",
              "                PhoneService\n",
              "            </td>\n",
              "        </tr>\n",
              "    \n",
              "    \n",
              "    </tbody>\n",
              "</table>\n",
              "    \n",
              "\n",
              "    \n",
              "\n",
              "\n",
              "    \n",
              "\n",
              "    \n",
              "\n",
              "    \n",
              "\n",
              "    \n",
              "\n",
              "    \n",
              "\n",
              "    \n",
              "\n",
              "\n",
              "\n"
            ],
            "text/plain": [
              "<IPython.core.display.HTML object>"
            ]
          },
          "metadata": {
            "tags": []
          },
          "execution_count": 17
        }
      ]
    },
    {
      "cell_type": "code",
      "metadata": {
        "id": "ByF6qmB0dZSj"
      },
      "source": [
        "minimum_importance = 0.001\r\n",
        "mask = permuter.feature_importances_ > minimum_importance\r\n",
        "feature = X_train.columns[mask]\r\n",
        "X_train_selected = X_train[feature]\r\n",
        "X_val_selected = X_val[feature]"
      ],
      "execution_count": 18,
      "outputs": []
    },
    {
      "cell_type": "code",
      "metadata": {
        "id": "3JMYYGJ0elKz",
        "colab": {
          "base_uri": "https://localhost:8080/"
        },
        "outputId": "7e42fbe0-9179-4b89-f6c6-90691f4e138d"
      },
      "source": [
        "feature"
      ],
      "execution_count": 19,
      "outputs": [
        {
          "output_type": "execute_result",
          "data": {
            "text/plain": [
              "Index(['gender', 'SeniorCitizen', 'tenure', 'MultipleLines', 'InternetService',\n",
              "       'Contract', 'PaperlessBilling', 'PaymentMethod', 'MonthlyCharges',\n",
              "       'TotalCharges', 'OnlineService', 'StreamingService'],\n",
              "      dtype='object')"
            ]
          },
          "metadata": {
            "tags": []
          },
          "execution_count": 19
        }
      ]
    },
    {
      "cell_type": "code",
      "metadata": {
        "id": "AIC5UO0jnd0H"
      },
      "source": [
        "X_train = train[feature]\r\n",
        "y_train = train[target]\r\n",
        "X_val = val[feature]\r\n",
        "y_val = val[target]\r\n",
        "X_test = test[feature]\r\n",
        "y_test = test[target]"
      ],
      "execution_count": 20,
      "outputs": []
    },
    {
      "cell_type": "markdown",
      "metadata": {
        "id": "riW9Bz8GUTzw"
      },
      "source": [
        "\r\n",
        "\r\n",
        "> hyperparameter tuning\r\n",
        "\r\n"
      ]
    },
    {
      "cell_type": "markdown",
      "metadata": {
        "id": "auc7CeQXo_Br"
      },
      "source": [
        "RandomForest Model"
      ]
    },
    {
      "cell_type": "code",
      "metadata": {
        "colab": {
          "base_uri": "https://localhost:8080/"
        },
        "id": "ifUkf--CUTPK",
        "outputId": "19f2b010-eb3e-48f1-8662-eb1fd00deddd"
      },
      "source": [
        "from scipy.stats import randint, uniform\r\n",
        "from sklearn.ensemble import RandomForestRegressor\r\n",
        "from sklearn.model_selection import RandomizedSearchCV\r\n",
        "\r\n",
        "param_distributions = { \r\n",
        "    'simpleimputer__strategy':['mean','median','most_frequent'],\r\n",
        "    \"randomforestclassifier__n_estimators\": list(range(10, 100, 10)),\r\n",
        "    \"randomforestclassifier__max_depth\": list(range(2,10,2)),\r\n",
        "    \"randomforestclassifier__max_features\": list(range(3,12,3)),\r\n",
        "    \"randomforestclassifier__min_samples_split\": list(range(3,9,2))\r\n",
        "}\r\n",
        "\r\n",
        "model = make_pipeline(\r\n",
        "    OrdinalEncoder(), \r\n",
        "    SimpleImputer(), \r\n",
        "    RandomForestClassifier()\r\n",
        ")\r\n",
        "\r\n",
        "search = RandomizedSearchCV(\r\n",
        "    model, \r\n",
        "    param_distributions=param_distributions, \r\n",
        "    n_iter=50, \r\n",
        "    cv=3, \r\n",
        "    scoring='accuracy', \r\n",
        "    verbose=10, \r\n",
        "    return_train_score=True, \r\n",
        "    n_jobs=-1, \r\n",
        "    random_state=2,\r\n",
        ")\r\n",
        "\r\n",
        "search.fit(X_train, y_train);\r\n",
        "model = search.best_estimator_\r\n",
        "y_val_pred = model.predict(X_val)\r\n",
        "\r\n",
        "print('\\n최적 하이퍼파라미터: ', search.best_params_)\r\n",
        "print('Accuracy: ', metrics.accuracy_score(y_val, y_val_pred))\r\n",
        "print('f1 score: ', metrics.f1_score(y_val, y_val_pred, average='binary'))"
      ],
      "execution_count": 22,
      "outputs": [
        {
          "output_type": "stream",
          "text": [
            "Fitting 3 folds for each of 50 candidates, totalling 150 fits\n"
          ],
          "name": "stdout"
        },
        {
          "output_type": "stream",
          "text": [
            "[Parallel(n_jobs=-1)]: Using backend LokyBackend with 2 concurrent workers.\n",
            "[Parallel(n_jobs=-1)]: Done   1 tasks      | elapsed:    2.2s\n",
            "[Parallel(n_jobs=-1)]: Done   4 tasks      | elapsed:    2.8s\n",
            "[Parallel(n_jobs=-1)]: Done   9 tasks      | elapsed:    4.6s\n",
            "[Parallel(n_jobs=-1)]: Done  14 tasks      | elapsed:    6.0s\n",
            "[Parallel(n_jobs=-1)]: Done  21 tasks      | elapsed:    6.9s\n",
            "[Parallel(n_jobs=-1)]: Done  28 tasks      | elapsed:    8.3s\n",
            "[Parallel(n_jobs=-1)]: Done  37 tasks      | elapsed:   10.9s\n",
            "[Parallel(n_jobs=-1)]: Done  46 tasks      | elapsed:   12.4s\n",
            "[Parallel(n_jobs=-1)]: Done  57 tasks      | elapsed:   15.6s\n",
            "[Parallel(n_jobs=-1)]: Done  68 tasks      | elapsed:   18.0s\n",
            "[Parallel(n_jobs=-1)]: Done  81 tasks      | elapsed:   20.7s\n",
            "[Parallel(n_jobs=-1)]: Done  94 tasks      | elapsed:   23.8s\n",
            "[Parallel(n_jobs=-1)]: Done 109 tasks      | elapsed:   26.9s\n",
            "[Parallel(n_jobs=-1)]: Done 124 tasks      | elapsed:   30.2s\n",
            "[Parallel(n_jobs=-1)]: Done 141 tasks      | elapsed:   34.4s\n",
            "[Parallel(n_jobs=-1)]: Done 150 out of 150 | elapsed:   37.0s finished\n"
          ],
          "name": "stderr"
        },
        {
          "output_type": "stream",
          "text": [
            "\n",
            "최적 하이퍼파라미터:  {'simpleimputer__strategy': 'mean', 'randomforestclassifier__n_estimators': 50, 'randomforestclassifier__min_samples_split': 7, 'randomforestclassifier__max_features': 3, 'randomforestclassifier__max_depth': 8}\n",
            "Accuracy:  0.8113475177304964\n",
            "f1 score:  0.5460750853242321\n"
          ],
          "name": "stdout"
        }
      ]
    },
    {
      "cell_type": "markdown",
      "metadata": {
        "id": "7gfSBjRyg-ZS"
      },
      "source": [
        "LGBM model"
      ]
    },
    {
      "cell_type": "code",
      "metadata": {
        "id": "hvFQ5IPcdbeC",
        "colab": {
          "base_uri": "https://localhost:8080/"
        },
        "outputId": "456fb574-cbd5-4f4a-b340-39586a7abf49"
      },
      "source": [
        "param_distributions = { \r\n",
        "    \"lgbmclassifier__n_estimators\": list(range(10, 100, 10)),\r\n",
        "    \"lgbmclassifier__max_depth\": list(range(2,10,2)),\r\n",
        "    \"lgbmclassifier__max_features\": list(range(3,12,3)),\r\n",
        "    \"lgbmclassifier__min_samples_split\": list(range(3,9,2)),\r\n",
        "    \"lgbmclassifier__num_iterations\":list(range(100,1000,100))\r\n",
        "\r\n",
        "}\r\n",
        "\r\n",
        "model_lgbm = make_pipeline(\r\n",
        "    OrdinalEncoder(), \r\n",
        "    LGBMClassifier(scale_pos_weight = ratio,learning_rate=0.1)\r\n",
        ")\r\n",
        "\r\n",
        "search_lgbm = RandomizedSearchCV(\r\n",
        "    model_lgbm, \r\n",
        "    param_distributions=param_distributions, \r\n",
        "    n_iter=50, \r\n",
        "    cv=3, \r\n",
        "    scoring='accuracy', \r\n",
        "    verbose=10, \r\n",
        "    return_train_score=True, \r\n",
        "    n_jobs=-1, \r\n",
        "    random_state=2\r\n",
        ")\r\n",
        "\r\n",
        "search_lgbm.fit(X_train, y_train);\r\n",
        "model_lgbm = search.best_estimator_\r\n",
        "y_val_pred = model_lgbm.predict(X_val)\r\n",
        "\r\n",
        "print('\\n최적 하이퍼파라미터: ', search.best_params_)\r\n",
        "print('Accuracy: ', metrics.accuracy_score(y_val, y_val_pred))\r\n",
        "print('f1 score: ', metrics.f1_score(y_val, y_val_pred, average='binary'))"
      ],
      "execution_count": 23,
      "outputs": [
        {
          "output_type": "stream",
          "text": [
            "Fitting 3 folds for each of 50 candidates, totalling 150 fits\n"
          ],
          "name": "stdout"
        },
        {
          "output_type": "stream",
          "text": [
            "[Parallel(n_jobs=-1)]: Using backend LokyBackend with 2 concurrent workers.\n",
            "[Parallel(n_jobs=-1)]: Done   1 tasks      | elapsed:    0.7s\n",
            "[Parallel(n_jobs=-1)]: Done   4 tasks      | elapsed:    1.3s\n",
            "[Parallel(n_jobs=-1)]: Done   9 tasks      | elapsed:    3.2s\n",
            "[Parallel(n_jobs=-1)]: Done  14 tasks      | elapsed:    5.0s\n",
            "[Parallel(n_jobs=-1)]: Done  21 tasks      | elapsed:    7.8s\n",
            "[Parallel(n_jobs=-1)]: Done  28 tasks      | elapsed:   10.8s\n",
            "[Parallel(n_jobs=-1)]: Done  37 tasks      | elapsed:   14.9s\n",
            "[Parallel(n_jobs=-1)]: Done  46 tasks      | elapsed:   17.7s\n",
            "[Parallel(n_jobs=-1)]: Done  57 tasks      | elapsed:   21.2s\n",
            "[Parallel(n_jobs=-1)]: Done  68 tasks      | elapsed:   29.4s\n",
            "[Parallel(n_jobs=-1)]: Done  81 tasks      | elapsed:   37.6s\n",
            "[Parallel(n_jobs=-1)]: Done  94 tasks      | elapsed:   41.1s\n",
            "[Parallel(n_jobs=-1)]: Done 109 tasks      | elapsed:   49.5s\n",
            "[Parallel(n_jobs=-1)]: Done 124 tasks      | elapsed:   57.3s\n",
            "[Parallel(n_jobs=-1)]: Done 141 tasks      | elapsed:  1.1min\n",
            "[Parallel(n_jobs=-1)]: Done 150 out of 150 | elapsed:  1.2min finished\n"
          ],
          "name": "stderr"
        },
        {
          "output_type": "stream",
          "text": [
            "\n",
            "최적 하이퍼파라미터:  {'simpleimputer__strategy': 'mean', 'randomforestclassifier__n_estimators': 50, 'randomforestclassifier__min_samples_split': 7, 'randomforestclassifier__max_features': 3, 'randomforestclassifier__max_depth': 8}\n",
            "Accuracy:  0.8113475177304964\n",
            "f1 score:  0.5460750853242321\n"
          ],
          "name": "stdout"
        }
      ]
    },
    {
      "cell_type": "markdown",
      "metadata": {
        "id": "5tKyzYHWfckI"
      },
      "source": [
        "XGBClassifier model"
      ]
    },
    {
      "cell_type": "code",
      "metadata": {
        "id": "jwor9TysfaYy",
        "colab": {
          "base_uri": "https://localhost:8080/"
        },
        "outputId": "3b2ce64f-efdc-49c7-d97e-f6219c17373b"
      },
      "source": [
        "from xgboost import XGBClassifier\r\n",
        "\r\n",
        "param_distributions = { \r\n",
        "    \"xgbclassifier__n_estimators\": list(range(10, 100, 10)),\r\n",
        "    \"xgbclassifier__max_depth\": list(range(2,10,2)),\r\n",
        "    \"xgbclassifier__max_features\": list(range(3,12,3)),\r\n",
        "    \"xgbclassifier__min_samples_split\": list(range(3,9,2)),\r\n",
        "    \"xgbclassifier__num_iterations\":list(range(100,1000,100))\r\n",
        "\r\n",
        "}\r\n",
        "\r\n",
        "model_xgb = make_pipeline(\r\n",
        "    OrdinalEncoder(), \r\n",
        "    XGBClassifier(scale_pos_weight = ratio,learning_rate=0.1)\r\n",
        ")\r\n",
        "\r\n",
        "search_xgb = RandomizedSearchCV(\r\n",
        "    model_xgb, \r\n",
        "    param_distributions=param_distributions, \r\n",
        "    n_iter=50, \r\n",
        "    cv=3, \r\n",
        "    scoring='accuracy', \r\n",
        "    verbose=10, \r\n",
        "    return_train_score=True, \r\n",
        "    n_jobs=-1, \r\n",
        "    random_state=2\r\n",
        ")\r\n",
        "\r\n",
        "search_xgb.fit(X_train, y_train);\r\n",
        "model_xgb = search.best_estimator_\r\n",
        "y_val_pred_xgb = model_xgb.predict(X_val)\r\n",
        "\r\n",
        "print('\\n최적 하이퍼파라미터: ', search.best_params_)\r\n",
        "print('Accuracy: ', metrics.accuracy_score(y_val, y_val_pred_xgb))\r\n",
        "print('f1 score: ', metrics.f1_score(y_val, y_val_pred_xgb, average='binary'))"
      ],
      "execution_count": 24,
      "outputs": [
        {
          "output_type": "stream",
          "text": [
            "Fitting 3 folds for each of 50 candidates, totalling 150 fits\n"
          ],
          "name": "stdout"
        },
        {
          "output_type": "stream",
          "text": [
            "[Parallel(n_jobs=-1)]: Using backend LokyBackend with 2 concurrent workers.\n",
            "[Parallel(n_jobs=-1)]: Done   1 tasks      | elapsed:    0.2s\n",
            "[Parallel(n_jobs=-1)]: Done   4 tasks      | elapsed:    0.4s\n",
            "[Parallel(n_jobs=-1)]: Done   9 tasks      | elapsed:    1.2s\n",
            "[Parallel(n_jobs=-1)]: Done  14 tasks      | elapsed:    2.0s\n",
            "[Parallel(n_jobs=-1)]: Done  21 tasks      | elapsed:    3.0s\n",
            "[Parallel(n_jobs=-1)]: Done  28 tasks      | elapsed:    4.3s\n",
            "[Parallel(n_jobs=-1)]: Done  37 tasks      | elapsed:    6.6s\n",
            "[Parallel(n_jobs=-1)]: Done  46 tasks      | elapsed:    8.1s\n",
            "[Parallel(n_jobs=-1)]: Done  57 tasks      | elapsed:   10.4s\n",
            "[Parallel(n_jobs=-1)]: Done  68 tasks      | elapsed:   13.4s\n",
            "[Parallel(n_jobs=-1)]: Done  81 tasks      | elapsed:   16.3s\n",
            "[Parallel(n_jobs=-1)]: Done  94 tasks      | elapsed:   18.0s\n",
            "[Parallel(n_jobs=-1)]: Done 109 tasks      | elapsed:   20.5s\n",
            "[Parallel(n_jobs=-1)]: Done 124 tasks      | elapsed:   24.1s\n",
            "[Parallel(n_jobs=-1)]: Done 141 tasks      | elapsed:   28.1s\n",
            "[Parallel(n_jobs=-1)]: Done 150 out of 150 | elapsed:   29.6s finished\n"
          ],
          "name": "stderr"
        },
        {
          "output_type": "stream",
          "text": [
            "\n",
            "최적 하이퍼파라미터:  {'simpleimputer__strategy': 'mean', 'randomforestclassifier__n_estimators': 50, 'randomforestclassifier__min_samples_split': 7, 'randomforestclassifier__max_features': 3, 'randomforestclassifier__max_depth': 8}\n",
            "Accuracy:  0.8113475177304964\n",
            "f1 score:  0.5460750853242321\n"
          ],
          "name": "stdout"
        }
      ]
    },
    {
      "cell_type": "markdown",
      "metadata": {
        "id": "60-AMqXCe6zq"
      },
      "source": [
        "\r\n",
        "\r\n",
        "> 한 특성에 대한 PDP - **tenure** 특성의 PDP 그리기\r\n",
        "\r\n"
      ]
    },
    {
      "cell_type": "code",
      "metadata": {
        "id": "8hj3DWwve2Ai"
      },
      "source": [
        "tenure = 'tenure'"
      ],
      "execution_count": 25,
      "outputs": []
    },
    {
      "cell_type": "code",
      "metadata": {
        "id": "SI-OK4cKe9EC",
        "colab": {
          "base_uri": "https://localhost:8080/",
          "height": 244
        },
        "outputId": "c26a9e17-1652-4619-ad10-4b1d1e69efc8"
      },
      "source": [
        "from pdpbox.pdp import pdp_isolate, pdp_plot\r\n",
        "\r\n",
        "isolated = pdp_isolate(\r\n",
        "    model=pipe_xgb,\r\n",
        "    dataset=X_val, \r\n",
        "    model_features=X_val_selected.columns, \r\n",
        "    feature=tenure,\r\n",
        "    grid_type='percentile', \r\n",
        "    num_grid_points=50\r\n",
        ")\r\n",
        "pdp_plot(isolated, feature_name=tenure, plot_lines=True);\r\n"
      ],
      "execution_count": 26,
      "outputs": [
        {
          "output_type": "error",
          "ename": "NameError",
          "evalue": "ignored",
          "traceback": [
            "\u001b[0;31m---------------------------------------------------------------------------\u001b[0m",
            "\u001b[0;31mNameError\u001b[0m                                 Traceback (most recent call last)",
            "\u001b[0;32m<ipython-input-26-c48abe0f28b7>\u001b[0m in \u001b[0;36m<module>\u001b[0;34m()\u001b[0m\n\u001b[1;32m      2\u001b[0m \u001b[0;34m\u001b[0m\u001b[0m\n\u001b[1;32m      3\u001b[0m isolated = pdp_isolate(\n\u001b[0;32m----> 4\u001b[0;31m     \u001b[0mmodel\u001b[0m\u001b[0;34m=\u001b[0m\u001b[0mpipe_selected\u001b[0m\u001b[0;34m,\u001b[0m\u001b[0;34m\u001b[0m\u001b[0;34m\u001b[0m\u001b[0m\n\u001b[0m\u001b[1;32m      5\u001b[0m     \u001b[0mdataset\u001b[0m\u001b[0;34m=\u001b[0m\u001b[0mX_val_selected\u001b[0m\u001b[0;34m,\u001b[0m\u001b[0;34m\u001b[0m\u001b[0;34m\u001b[0m\u001b[0m\n\u001b[1;32m      6\u001b[0m     \u001b[0mmodel_features\u001b[0m\u001b[0;34m=\u001b[0m\u001b[0mX_val_selected\u001b[0m\u001b[0;34m.\u001b[0m\u001b[0mcolumns\u001b[0m\u001b[0;34m,\u001b[0m\u001b[0;34m\u001b[0m\u001b[0;34m\u001b[0m\u001b[0m\n",
            "\u001b[0;31mNameError\u001b[0m: name 'pipe_selected' is not defined"
          ]
        }
      ]
    },
    {
      "cell_type": "markdown",
      "metadata": {
        "id": "XU6YPoTSgxjl"
      },
      "source": [
        "\r\n",
        "\r\n",
        "> 두 특성 간의 상호작용 - **tenure**, **MonthlyCharges** 특성의 PDP 그리기\r\n",
        "\r\n"
      ]
    },
    {
      "cell_type": "code",
      "metadata": {
        "id": "WKb0jXh9gzyi"
      },
      "source": [
        "from pdpbox.pdp import pdp_interact, pdp_interact_plot\r\n",
        "\r\n",
        "tenure_contract = ['tenure', 'MonthlyCharges']\r\n",
        "\r\n",
        "interaction = pdp_interact(\r\n",
        "    model=pipe_selected, \r\n",
        "    dataset=X_val_selected,\r\n",
        "    model_features=X_val_selected.columns, \r\n",
        "    features=tenure_contract\r\n",
        ")\r\n",
        "pdp_interact_plot(interaction, plot_type='grid', \r\n",
        "                  feature_names=tenure_contract);"
      ],
      "execution_count": null,
      "outputs": []
    },
    {
      "cell_type": "markdown",
      "metadata": {
        "id": "XuZxiSYyhLym"
      },
      "source": [
        "\r\n",
        "\r\n",
        "> SHAP 라이브러리를 통한 시각화\r\n",
        "\r\n",
        "\r\n",
        "\r\n",
        "\r\n"
      ]
    },
    {
      "cell_type": "code",
      "metadata": {
        "id": "6psBxdFnhQgX"
      },
      "source": [
        "from category_encoders import OneHotEncoder, OrdinalEncoder\r\n",
        "from sklearn.impute import SimpleImputer\r\n",
        "\r\n",
        "ode = OrdinalEncoder()\r\n",
        "imp = SimpleImputer()\r\n",
        "\r\n",
        "X_train_encoded = ode.fit_transform(X_train_selected)\r\n",
        "X_train_imputed = imp.fit_transform(X_train_encoded)\r\n",
        "\r\n",
        "X_val_encoded = ode.transform(X_val_selected)\r\n",
        "X_val_imputed = imp.transform(X_val_encoded)\r\n"
      ],
      "execution_count": null,
      "outputs": []
    },
    {
      "cell_type": "code",
      "metadata": {
        "id": "jTFBYsANhbqy"
      },
      "source": [
        "from scipy.stats import randint, uniform\r\n",
        "from sklearn.ensemble import RandomForestRegressor\r\n",
        "from sklearn.model_selection import RandomizedSearchCV\r\n",
        "\r\n",
        "param_distributions = { \r\n",
        "    'n_estimators': randint(50, 500), \r\n",
        "    'max_depth': [5, 10, 15, 20, None], \r\n",
        "    'max_features': uniform(0, 1), \r\n",
        "}\r\n",
        "\r\n",
        "search = RandomizedSearchCV(\r\n",
        "    RandomForestRegressor(random_state=2), \r\n",
        "    param_distributions=param_distributions, \r\n",
        "    n_iter=5, \r\n",
        "    cv=3, \r\n",
        "    scoring='neg_mean_absolute_error', \r\n",
        "    verbose=10, \r\n",
        "    return_train_score=True, \r\n",
        "    n_jobs=-1, \r\n",
        "    random_state=2\r\n",
        ")\r\n",
        "\r\n",
        "search.fit(X_train_imputed, y_train);"
      ],
      "execution_count": null,
      "outputs": []
    },
    {
      "cell_type": "code",
      "metadata": {
        "id": "VaP7Rz-khi0i"
      },
      "source": [
        "model = search.best_estimator_"
      ],
      "execution_count": null,
      "outputs": []
    },
    {
      "cell_type": "code",
      "metadata": {
        "id": "R7mMrAfLhjeq"
      },
      "source": [
        "row = X_train_encoded.iloc[[1]]\r\n",
        "row"
      ],
      "execution_count": null,
      "outputs": []
    },
    {
      "cell_type": "markdown",
      "metadata": {
        "id": "M3W1iPRFhrv7"
      },
      "source": [
        "\r\n",
        "\r\n",
        "> Force plot\r\n",
        "\r\n"
      ]
    },
    {
      "cell_type": "code",
      "metadata": {
        "id": "-5ra63GMhkpq"
      },
      "source": [
        "import shap\r\n",
        "\r\n",
        "explainer = shap.TreeExplainer(model)\r\n",
        "shap_values = explainer.shap_values(row)\r\n",
        "\r\n",
        "shap.initjs()\r\n",
        "shap.force_plot(\r\n",
        "    base_value=explainer.expected_value, \r\n",
        "    shap_values=shap_values,\r\n",
        "    features=row\r\n",
        ")"
      ],
      "execution_count": null,
      "outputs": []
    },
    {
      "cell_type": "markdown",
      "metadata": {
        "id": "a78rMP-8hwZE"
      },
      "source": [
        "\r\n",
        "> Summary plot : scatter, violin, bar\r\n",
        "\r\n"
      ]
    },
    {
      "cell_type": "code",
      "metadata": {
        "id": "JIdE595xhuvc"
      },
      "source": [
        "shap.initjs()\r\n",
        "rows = X_train_encoded.iloc[:100]\r\n",
        "shap_values = explainer.shap_values(rows)\r\n",
        "shap.summary_plot(shap_values, rows)"
      ],
      "execution_count": null,
      "outputs": []
    },
    {
      "cell_type": "code",
      "metadata": {
        "id": "CAGuAO9UhzJM"
      },
      "source": [
        "shap.initjs()\r\n",
        "shap.summary_plot(shap_values, rows, plot_type='violin')"
      ],
      "execution_count": null,
      "outputs": []
    },
    {
      "cell_type": "markdown",
      "metadata": {
        "id": "DQgKqKMbh5mt"
      },
      "source": [
        "scatter 형태로 그려지는 summary 그래프를 좀 더 쉽게 인식할 수 있도록 violin 그래프를 그렸습니다.\r\n"
      ]
    },
    {
      "cell_type": "code",
      "metadata": {
        "id": "y67cJbxqh1zd"
      },
      "source": [
        "shap.initjs()\r\n",
        "shap.summary_plot(shap_values, rows,plot_type='bar')"
      ],
      "execution_count": null,
      "outputs": []
    },
    {
      "cell_type": "markdown",
      "metadata": {
        "id": "Fqj1P6KBh4iH"
      },
      "source": [
        "각 변수의 shap value에 절대값을 취해서 나타낸 그래프로, 특성의 평균적인 영향력을 보여주는 그래프입니다. bar의 길이가 길수록 타겟과의 관계성이 높다는 것을 나타내기 때문에, 이 그래프는 특성 중요도 그래프와 같은 결과를 보여준다는 것을 알 수 있습니다."
      ]
    }
  ]
}